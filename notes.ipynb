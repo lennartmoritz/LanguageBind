{
 "cells": [
  {
   "cell_type": "markdown",
   "metadata": {},
   "source": [
    "## Preparation\n",
    "1. Download pre-processed Dataset of MSRVTT according to [Languagebind](https://github.com/lennartmoritz/LanguageBind/blob/main/TRAIN_AND_VALIDATE.md)\n",
    "1. Store on server at `/raid/1moritz/datasets`\n",
    "```\n",
    "curl \"https://drive.usercontent.google.com/download?id={fileId}&confirm=xxx\" -o filename\n",
    "\n",
    "curl -L \"https://drive.usercontent.google.com/download?id={1LLXXIcz2MNCb9wNn-fQPDw8i1ImwaPY9}&confirm=yes\" -o MSRVTT_Videos.zip\n",
    "curl -L \"https://drive.usercontent.google.com/download?id={1vAZBBlATl1RGTVUikFu8fnjB6oosDUMB}&confirm=yes\" -o MSRVTT_train.9k.csv\n",
    "curl -L \"https://drive.usercontent.google.com/download?id={1PirTHAfHwqz8GXPENd6rbTRyabe_56Aq}&confirm=yes\" -o MSRVTT_train.7k.csv\n",
    "curl -L \"https://drive.usercontent.google.com/download?id={181bToic63jql5h_U3_RZ82PN9CWthEBp}&confirm=yes\" -o MSRVTT_JSFUSION_test.csv\n",
    "curl -L \"https://drive.usercontent.google.com/download?id={17VYfaWD8mHm3GmFsUSPoFpN6xqJy7VMo}&confirm=yes\" -o MSRVTT_data.json\n",
    "```\n",
    "3. Test validation results: CUDA_VISIBLE_DEVICES=X python3 yourprogram.py\n",
    "3. `CUDA_VISIBLE_DEVICES=4 sh ./scripts/video_language/eval_msrvtt.sh`\n",
    "3. Results don't match up\n",
    "\n",
    "## Debugging\n",
    "1. Configure launch.json debugger\n",
    "1. Debug until dataloader_msrvtt_retrieval.py line 29 where I find out only csv_path = '/raid/1moritz/datasets//MSRVTT/MSRVTT_JSFUSION_test.csv' is used (1000 entries)\n",
    "1. Paused at L484 in main.py\n",
    "1. Interessantes in retrieval.py L68\n",
    "1. In retrieval.py L194 wird ranking abgespeichert\n",
    "\n",
    "## Custom Validation script\n",
    "1. Extract dataloader Code from `main.py` and rewrite parts of `inference.py`\n",
    "1. Recreate `vl_ret/retrival.py` L129 f.\n"
   ]
  },
  {
   "cell_type": "code",
   "execution_count": null,
   "metadata": {},
   "outputs": [],
   "source": []
  }
 ],
 "metadata": {
  "language_info": {
   "name": "python"
  }
 },
 "nbformat": 4,
 "nbformat_minor": 2
}
